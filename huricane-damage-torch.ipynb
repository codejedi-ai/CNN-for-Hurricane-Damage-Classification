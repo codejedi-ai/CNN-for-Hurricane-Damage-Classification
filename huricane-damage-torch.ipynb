{
 "cells": [
  {
   "cell_type": "code",
   "execution_count": null,
   "id": "477a363e-e635-4e5c-9e51-70997f0d5dc4",
   "metadata": {},
   "outputs": [
    {
     "name": "stdout",
     "output_type": "stream",
     "text": [
      "Found 10000 files belonging to 2 classes.\n",
      "Found 2000 files belonging to 2 classes.\n",
      "Epoch 1/30\n",
      "157/157 [==============================] - 84s 524ms/step - loss: 2.1857 - accuracy: 0.5038 - val_loss: 0.6933 - val_accuracy: 0.4985\n",
      "Epoch 2/30\n",
      "157/157 [==============================] - 82s 522ms/step - loss: 0.6730 - accuracy: 0.6194 - val_loss: 0.6725 - val_accuracy: 0.5580\n",
      "Epoch 3/30\n",
      "157/157 [==============================] - 82s 523ms/step - loss: 0.4172 - accuracy: 0.8299 - val_loss: 0.3867 - val_accuracy: 0.8180\n",
      "Epoch 4/30\n",
      "157/157 [==============================] - 81s 517ms/step - loss: 0.3189 - accuracy: 0.8667 - val_loss: 0.4582 - val_accuracy: 0.7810\n",
      "Epoch 5/30\n",
      "157/157 [==============================] - 81s 518ms/step - loss: 0.2908 - accuracy: 0.8827 - val_loss: 0.2009 - val_accuracy: 0.9275\n",
      "Epoch 6/30\n",
      "157/157 [==============================] - 82s 522ms/step - loss: 0.2672 - accuracy: 0.8888 - val_loss: 0.1837 - val_accuracy: 0.9275\n",
      "Epoch 7/30\n",
      "157/157 [==============================] - 81s 517ms/step - loss: 0.2308 - accuracy: 0.9054 - val_loss: 0.4259 - val_accuracy: 0.8235\n",
      "Epoch 8/30\n",
      "157/157 [==============================] - 82s 519ms/step - loss: 0.2574 - accuracy: 0.9136 - val_loss: 0.5828 - val_accuracy: 0.6700\n",
      "Epoch 9/30\n",
      "157/157 [==============================] - 81s 515ms/step - loss: 0.2235 - accuracy: 0.9148 - val_loss: 0.1823 - val_accuracy: 0.9415\n",
      "Epoch 10/30\n",
      "157/157 [==============================] - 81s 515ms/step - loss: 0.2859 - accuracy: 0.9061 - val_loss: 0.1926 - val_accuracy: 0.9390\n",
      "Epoch 11/30\n",
      "157/157 [==============================] - 82s 522ms/step - loss: 0.2120 - accuracy: 0.9235 - val_loss: 0.1385 - val_accuracy: 0.9465\n",
      "Epoch 12/30\n",
      "157/157 [==============================] - 81s 514ms/step - loss: 0.2232 - accuracy: 0.9221 - val_loss: 0.1428 - val_accuracy: 0.9470\n",
      "Epoch 13/30\n",
      "157/157 [==============================] - 81s 513ms/step - loss: 0.2334 - accuracy: 0.9252 - val_loss: 0.1670 - val_accuracy: 0.9395\n",
      "Epoch 14/30\n",
      "157/157 [==============================] - 81s 518ms/step - loss: 0.1982 - accuracy: 0.9233 - val_loss: 0.1541 - val_accuracy: 0.9470\n",
      "Epoch 15/30\n",
      "157/157 [==============================] - 81s 518ms/step - loss: 0.2217 - accuracy: 0.9278 - val_loss: 0.1161 - val_accuracy: 0.9560\n",
      "Epoch 16/30\n",
      "157/157 [==============================] - 81s 516ms/step - loss: 0.3749 - accuracy: 0.9250 - val_loss: 0.1254 - val_accuracy: 0.9505\n",
      "Epoch 17/30\n",
      "157/157 [==============================] - 81s 518ms/step - loss: 0.2217 - accuracy: 0.9244 - val_loss: 0.1832 - val_accuracy: 0.9320\n",
      "Epoch 18/30\n",
      "157/157 [==============================] - 81s 514ms/step - loss: 0.2160 - accuracy: 0.9332 - val_loss: 0.1624 - val_accuracy: 0.9435\n",
      "Epoch 19/30\n",
      "135/157 [========================>.....] - ETA: 10s - loss: 0.2520 - accuracy: 0.9190"
     ]
    },
    {
     "name": "stderr",
     "output_type": "stream",
     "text": [
      "IOPub message rate exceeded.\n",
      "The Jupyter server will temporarily stop sending output\n",
      "to the client in order to avoid crashing it.\n",
      "To change this limit, set the config variable\n",
      "`--ServerApp.iopub_msg_rate_limit`.\n",
      "\n",
      "Current values:\n",
      "ServerApp.iopub_msg_rate_limit=1000.0 (msgs/sec)\n",
      "ServerApp.rate_limit_window=3.0 (secs)\n",
      "\n"
     ]
    }
   ],
   "source": []
  },
  {
   "cell_type": "code",
   "execution_count": null,
   "id": "8016697f-72b5-47e6-b34d-05eb38421d01",
   "metadata": {},
   "outputs": [],
   "source": []
  }
 ],
 "metadata": {
  "environment": {
   "kernel": "python3",
   "name": "tf2-gpu.2-10.m108",
   "type": "gcloud",
   "uri": "gcr.io/deeplearning-platform-release/tf2-gpu.2-10:m108"
  },
  "kernelspec": {
   "display_name": "Python 3 (ipykernel)",
   "language": "python",
   "name": "python3"
  },
  "language_info": {
   "codemirror_mode": {
    "name": "ipython",
    "version": 3
   },
   "file_extension": ".py",
   "mimetype": "text/x-python",
   "name": "python",
   "nbconvert_exporter": "python",
   "pygments_lexer": "ipython3",
   "version": "3.7.12"
  }
 },
 "nbformat": 4,
 "nbformat_minor": 5
}
